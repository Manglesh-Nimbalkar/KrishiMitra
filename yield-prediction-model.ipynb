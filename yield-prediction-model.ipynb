{
 "cells": [
  {
   "cell_type": "code",
   "execution_count": 1,
   "id": "2e662578",
   "metadata": {
    "_cell_guid": "b1076dfc-b9ad-4769-8c92-a6c4dae69d19",
    "_uuid": "8f2839f25d086af736a60e9eeb907d3b93b6e0e5",
    "execution": {
     "iopub.execute_input": "2024-10-07T15:18:56.334688Z",
     "iopub.status.busy": "2024-10-07T15:18:56.333611Z",
     "iopub.status.idle": "2024-10-07T15:18:58.663227Z",
     "shell.execute_reply": "2024-10-07T15:18:58.662298Z"
    },
    "papermill": {
     "duration": 2.344451,
     "end_time": "2024-10-07T15:18:58.665746",
     "exception": false,
     "start_time": "2024-10-07T15:18:56.321295",
     "status": "completed"
    },
    "tags": []
   },
   "outputs": [],
   "source": [
    "import pandas as pd\n",
    "import numpy as np\n",
    "import matplotlib.pyplot as plt\n",
    "import seaborn as sns"
   ]
  },
  {
   "cell_type": "code",
   "execution_count": 2,
   "id": "dc42c905",
   "metadata": {
    "execution": {
     "iopub.execute_input": "2024-10-07T15:18:58.687525Z",
     "iopub.status.busy": "2024-10-07T15:18:58.686638Z",
     "iopub.status.idle": "2024-10-07T15:18:59.704352Z",
     "shell.execute_reply": "2024-10-07T15:18:59.703168Z"
    },
    "papermill": {
     "duration": 1.031302,
     "end_time": "2024-10-07T15:18:59.706962",
     "exception": false,
     "start_time": "2024-10-07T15:18:58.675660",
     "status": "completed"
    },
    "tags": []
   },
   "outputs": [],
   "source": [
    "df = pd.read_csv('/kaggle/input/crop-production-statistics-india/APY.csv')"
   ]
  },
  {
   "cell_type": "code",
   "execution_count": 3,
   "id": "f1387035",
   "metadata": {
    "execution": {
     "iopub.execute_input": "2024-10-07T15:18:59.728415Z",
     "iopub.status.busy": "2024-10-07T15:18:59.727989Z",
     "iopub.status.idle": "2024-10-07T15:18:59.779174Z",
     "shell.execute_reply": "2024-10-07T15:18:59.778009Z"
    },
    "papermill": {
     "duration": 0.064791,
     "end_time": "2024-10-07T15:18:59.781664",
     "exception": false,
     "start_time": "2024-10-07T15:18:59.716873",
     "status": "completed"
    },
    "tags": []
   },
   "outputs": [
    {
     "data": {
      "text/html": [
       "<div>\n",
       "<style scoped>\n",
       "    .dataframe tbody tr th:only-of-type {\n",
       "        vertical-align: middle;\n",
       "    }\n",
       "\n",
       "    .dataframe tbody tr th {\n",
       "        vertical-align: top;\n",
       "    }\n",
       "\n",
       "    .dataframe thead th {\n",
       "        text-align: right;\n",
       "    }\n",
       "</style>\n",
       "<table border=\"1\" class=\"dataframe\">\n",
       "  <thead>\n",
       "    <tr style=\"text-align: right;\">\n",
       "      <th></th>\n",
       "      <th>State</th>\n",
       "      <th>District</th>\n",
       "      <th>Crop</th>\n",
       "      <th>Crop_Year</th>\n",
       "      <th>Season</th>\n",
       "      <th>Area</th>\n",
       "      <th>Production</th>\n",
       "      <th>Yield</th>\n",
       "    </tr>\n",
       "  </thead>\n",
       "  <tbody>\n",
       "    <tr>\n",
       "      <th>0</th>\n",
       "      <td>Andaman and Nicobar Island</td>\n",
       "      <td>NICOBARS</td>\n",
       "      <td>Arecanut</td>\n",
       "      <td>2007</td>\n",
       "      <td>Kharif</td>\n",
       "      <td>2439.6</td>\n",
       "      <td>3415.0</td>\n",
       "      <td>1.40</td>\n",
       "    </tr>\n",
       "    <tr>\n",
       "      <th>1</th>\n",
       "      <td>Andaman and Nicobar Island</td>\n",
       "      <td>NICOBARS</td>\n",
       "      <td>Arecanut</td>\n",
       "      <td>2007</td>\n",
       "      <td>Rabi</td>\n",
       "      <td>1626.4</td>\n",
       "      <td>2277.0</td>\n",
       "      <td>1.40</td>\n",
       "    </tr>\n",
       "    <tr>\n",
       "      <th>2</th>\n",
       "      <td>Andaman and Nicobar Island</td>\n",
       "      <td>NICOBARS</td>\n",
       "      <td>Arecanut</td>\n",
       "      <td>2008</td>\n",
       "      <td>Autumn</td>\n",
       "      <td>4147.0</td>\n",
       "      <td>3060.0</td>\n",
       "      <td>0.74</td>\n",
       "    </tr>\n",
       "    <tr>\n",
       "      <th>3</th>\n",
       "      <td>Andaman and Nicobar Island</td>\n",
       "      <td>NICOBARS</td>\n",
       "      <td>Arecanut</td>\n",
       "      <td>2008</td>\n",
       "      <td>Summer</td>\n",
       "      <td>4147.0</td>\n",
       "      <td>2660.0</td>\n",
       "      <td>0.64</td>\n",
       "    </tr>\n",
       "    <tr>\n",
       "      <th>4</th>\n",
       "      <td>Andaman and Nicobar Island</td>\n",
       "      <td>NICOBARS</td>\n",
       "      <td>Arecanut</td>\n",
       "      <td>2009</td>\n",
       "      <td>Autumn</td>\n",
       "      <td>4153.0</td>\n",
       "      <td>3120.0</td>\n",
       "      <td>0.75</td>\n",
       "    </tr>\n",
       "    <tr>\n",
       "      <th>...</th>\n",
       "      <td>...</td>\n",
       "      <td>...</td>\n",
       "      <td>...</td>\n",
       "      <td>...</td>\n",
       "      <td>...</td>\n",
       "      <td>...</td>\n",
       "      <td>...</td>\n",
       "      <td>...</td>\n",
       "    </tr>\n",
       "    <tr>\n",
       "      <th>345331</th>\n",
       "      <td>West Bengal</td>\n",
       "      <td>PURULIA</td>\n",
       "      <td>Wheat</td>\n",
       "      <td>2015</td>\n",
       "      <td>Rabi</td>\n",
       "      <td>855.0</td>\n",
       "      <td>1241.0</td>\n",
       "      <td>1.45</td>\n",
       "    </tr>\n",
       "    <tr>\n",
       "      <th>345332</th>\n",
       "      <td>West Bengal</td>\n",
       "      <td>PURULIA</td>\n",
       "      <td>Wheat</td>\n",
       "      <td>2016</td>\n",
       "      <td>Rabi</td>\n",
       "      <td>1366.0</td>\n",
       "      <td>2415.0</td>\n",
       "      <td>1.77</td>\n",
       "    </tr>\n",
       "    <tr>\n",
       "      <th>345333</th>\n",
       "      <td>West Bengal</td>\n",
       "      <td>PURULIA</td>\n",
       "      <td>Wheat</td>\n",
       "      <td>2017</td>\n",
       "      <td>Rabi</td>\n",
       "      <td>1052.0</td>\n",
       "      <td>2145.0</td>\n",
       "      <td>2.04</td>\n",
       "    </tr>\n",
       "    <tr>\n",
       "      <th>345334</th>\n",
       "      <td>West Bengal</td>\n",
       "      <td>PURULIA</td>\n",
       "      <td>Wheat</td>\n",
       "      <td>2018</td>\n",
       "      <td>Rabi</td>\n",
       "      <td>833.0</td>\n",
       "      <td>2114.0</td>\n",
       "      <td>2.54</td>\n",
       "    </tr>\n",
       "    <tr>\n",
       "      <th>345335</th>\n",
       "      <td>West Bengal</td>\n",
       "      <td>PURULIA</td>\n",
       "      <td>Wheat</td>\n",
       "      <td>2019</td>\n",
       "      <td>Rabi</td>\n",
       "      <td>516.0</td>\n",
       "      <td>931.0</td>\n",
       "      <td>1.80</td>\n",
       "    </tr>\n",
       "  </tbody>\n",
       "</table>\n",
       "<p>345336 rows × 8 columns</p>\n",
       "</div>"
      ],
      "text/plain": [
       "                             State  District      Crop  Crop_Year  \\\n",
       "0       Andaman and Nicobar Island  NICOBARS  Arecanut       2007   \n",
       "1       Andaman and Nicobar Island  NICOBARS  Arecanut       2007   \n",
       "2       Andaman and Nicobar Island  NICOBARS  Arecanut       2008   \n",
       "3       Andaman and Nicobar Island  NICOBARS  Arecanut       2008   \n",
       "4       Andaman and Nicobar Island  NICOBARS  Arecanut       2009   \n",
       "...                            ...       ...       ...        ...   \n",
       "345331                 West Bengal   PURULIA     Wheat       2015   \n",
       "345332                 West Bengal   PURULIA     Wheat       2016   \n",
       "345333                 West Bengal   PURULIA     Wheat       2017   \n",
       "345334                 West Bengal   PURULIA     Wheat       2018   \n",
       "345335                 West Bengal   PURULIA     Wheat       2019   \n",
       "\n",
       "             Season    Area  Production  Yield  \n",
       "0       Kharif       2439.6      3415.0   1.40  \n",
       "1       Rabi         1626.4      2277.0   1.40  \n",
       "2       Autumn       4147.0      3060.0   0.74  \n",
       "3       Summer       4147.0      2660.0   0.64  \n",
       "4       Autumn       4153.0      3120.0   0.75  \n",
       "...             ...     ...         ...    ...  \n",
       "345331  Rabi          855.0      1241.0   1.45  \n",
       "345332  Rabi         1366.0      2415.0   1.77  \n",
       "345333  Rabi         1052.0      2145.0   2.04  \n",
       "345334  Rabi          833.0      2114.0   2.54  \n",
       "345335  Rabi          516.0       931.0   1.80  \n",
       "\n",
       "[345336 rows x 8 columns]"
      ]
     },
     "execution_count": 3,
     "metadata": {},
     "output_type": "execute_result"
    }
   ],
   "source": [
    "df = df.rename(columns=lambda x: x.replace(' ', ''))\n",
    "df"
   ]
  },
  {
   "cell_type": "code",
   "execution_count": 4,
   "id": "9fe5400c",
   "metadata": {
    "execution": {
     "iopub.execute_input": "2024-10-07T15:18:59.804319Z",
     "iopub.status.busy": "2024-10-07T15:18:59.803897Z",
     "iopub.status.idle": "2024-10-07T15:19:00.115090Z",
     "shell.execute_reply": "2024-10-07T15:19:00.114150Z"
    },
    "papermill": {
     "duration": 0.325616,
     "end_time": "2024-10-07T15:19:00.117710",
     "exception": false,
     "start_time": "2024-10-07T15:18:59.792094",
     "status": "completed"
    },
    "tags": []
   },
   "outputs": [],
   "source": [
    "df['State'] = df['State'].str.replace(' and ', ' & ')\n",
    "state_replacements = {\n",
    "    'Andaman & Nicobar Island': 'Andaman & Nicobar',\n",
    "    'Dadra & Nagar Haveli': 'Dadra and Nagar Haveli and Daman and Diu',\n",
    "    'Daman & Diu': 'Dadra and Nagar Haveli and Daman and Diu',\n",
    "    'THE DADRA AND NAGAR HAVELI': 'Dadra and Nagar Haveli and Daman and Diu',\n",
    "    'Laddak': 'Ladakh',\n",
    "    'CHANDIGARH' :'Chandigarh'\n",
    "}\n",
    "df['State'] = df['State'].replace(state_replacements)"
   ]
  },
  {
   "cell_type": "code",
   "execution_count": 5,
   "id": "46f190c0",
   "metadata": {
    "execution": {
     "iopub.execute_input": "2024-10-07T15:19:00.140342Z",
     "iopub.status.busy": "2024-10-07T15:19:00.139690Z",
     "iopub.status.idle": "2024-10-07T15:19:00.293097Z",
     "shell.execute_reply": "2024-10-07T15:19:00.292077Z"
    },
    "papermill": {
     "duration": 0.166846,
     "end_time": "2024-10-07T15:19:00.295508",
     "exception": false,
     "start_time": "2024-10-07T15:19:00.128662",
     "status": "completed"
    },
    "tags": []
   },
   "outputs": [
    {
     "data": {
      "text/plain": [
       "State            0\n",
       "District         0\n",
       "Crop             9\n",
       "Crop_Year        0\n",
       "Season           0\n",
       "Area             0\n",
       "Production    4948\n",
       "Yield            0\n",
       "dtype: int64"
      ]
     },
     "execution_count": 5,
     "metadata": {},
     "output_type": "execute_result"
    }
   ],
   "source": [
    "df.isnull().sum()"
   ]
  },
  {
   "cell_type": "code",
   "execution_count": 6,
   "id": "10f208b9",
   "metadata": {
    "execution": {
     "iopub.execute_input": "2024-10-07T15:19:00.317680Z",
     "iopub.status.busy": "2024-10-07T15:19:00.317012Z",
     "iopub.status.idle": "2024-10-07T15:19:00.398722Z",
     "shell.execute_reply": "2024-10-07T15:19:00.397751Z"
    },
    "papermill": {
     "duration": 0.095736,
     "end_time": "2024-10-07T15:19:00.401401",
     "exception": false,
     "start_time": "2024-10-07T15:19:00.305665",
     "status": "completed"
    },
    "tags": []
   },
   "outputs": [],
   "source": [
    "df.dropna(subset=['Crop'], inplace=True)"
   ]
  },
  {
   "cell_type": "code",
   "execution_count": 7,
   "id": "1065e0bc",
   "metadata": {
    "execution": {
     "iopub.execute_input": "2024-10-07T15:19:00.423984Z",
     "iopub.status.busy": "2024-10-07T15:19:00.423552Z",
     "iopub.status.idle": "2024-10-07T15:19:00.436289Z",
     "shell.execute_reply": "2024-10-07T15:19:00.435307Z"
    },
    "papermill": {
     "duration": 0.026676,
     "end_time": "2024-10-07T15:19:00.438490",
     "exception": false,
     "start_time": "2024-10-07T15:19:00.411814",
     "status": "completed"
    },
    "tags": []
   },
   "outputs": [
    {
     "data": {
      "text/plain": [
       "1.4316864884587652"
      ]
     },
     "execution_count": 7,
     "metadata": {},
     "output_type": "execute_result"
    }
   ],
   "source": [
    "(df.Production.isna().sum()/len(df))*100"
   ]
  },
  {
   "cell_type": "code",
   "execution_count": 8,
   "id": "4df8368c",
   "metadata": {
    "execution": {
     "iopub.execute_input": "2024-10-07T15:19:00.460826Z",
     "iopub.status.busy": "2024-10-07T15:19:00.460424Z",
     "iopub.status.idle": "2024-10-07T15:19:00.474565Z",
     "shell.execute_reply": "2024-10-07T15:19:00.473543Z"
    },
    "papermill": {
     "duration": 0.027976,
     "end_time": "2024-10-07T15:19:00.476991",
     "exception": false,
     "start_time": "2024-10-07T15:19:00.449015",
     "status": "completed"
    },
    "tags": []
   },
   "outputs": [
    {
     "name": "stderr",
     "output_type": "stream",
     "text": [
      "/tmp/ipykernel_17/4043336660.py:2: FutureWarning: A value is trying to be set on a copy of a DataFrame or Series through chained assignment using an inplace method.\n",
      "The behavior will change in pandas 3.0. This inplace method will never work because the intermediate object on which we are setting values always behaves as a copy.\n",
      "\n",
      "For example, when doing 'df[col].method(value, inplace=True)', try using 'df.method({col: value}, inplace=True)' or df[col] = df[col].method(value) instead, to perform the operation inplace on the original object.\n",
      "\n",
      "\n",
      "  df['Production'].fillna(production_median, inplace=True)\n"
     ]
    }
   ],
   "source": [
    "production_median = df['Production'].median()\n",
    "df['Production'].fillna(production_median, inplace=True)"
   ]
  },
  {
   "cell_type": "code",
   "execution_count": 9,
   "id": "23645385",
   "metadata": {
    "execution": {
     "iopub.execute_input": "2024-10-07T15:19:00.499499Z",
     "iopub.status.busy": "2024-10-07T15:19:00.498819Z",
     "iopub.status.idle": "2024-10-07T15:19:00.561067Z",
     "shell.execute_reply": "2024-10-07T15:19:00.559966Z"
    },
    "papermill": {
     "duration": 0.075904,
     "end_time": "2024-10-07T15:19:00.563336",
     "exception": false,
     "start_time": "2024-10-07T15:19:00.487432",
     "status": "completed"
    },
    "tags": []
   },
   "outputs": [
    {
     "data": {
      "text/html": [
       "<div>\n",
       "<style scoped>\n",
       "    .dataframe tbody tr th:only-of-type {\n",
       "        vertical-align: middle;\n",
       "    }\n",
       "\n",
       "    .dataframe tbody tr th {\n",
       "        vertical-align: top;\n",
       "    }\n",
       "\n",
       "    .dataframe thead th {\n",
       "        text-align: right;\n",
       "    }\n",
       "</style>\n",
       "<table border=\"1\" class=\"dataframe\">\n",
       "  <thead>\n",
       "    <tr style=\"text-align: right;\">\n",
       "      <th></th>\n",
       "      <th>Crop_Year</th>\n",
       "      <th>Area</th>\n",
       "      <th>Production</th>\n",
       "      <th>Yield</th>\n",
       "    </tr>\n",
       "  </thead>\n",
       "  <tbody>\n",
       "    <tr>\n",
       "      <th>count</th>\n",
       "      <td>345327.000000</td>\n",
       "      <td>3.453270e+05</td>\n",
       "      <td>3.453270e+05</td>\n",
       "      <td>345327.000000</td>\n",
       "    </tr>\n",
       "    <tr>\n",
       "      <th>mean</th>\n",
       "      <td>2008.887680</td>\n",
       "      <td>1.167177e+04</td>\n",
       "      <td>9.447745e+05</td>\n",
       "      <td>79.425204</td>\n",
       "    </tr>\n",
       "    <tr>\n",
       "      <th>std</th>\n",
       "      <td>6.564326</td>\n",
       "      <td>4.584135e+04</td>\n",
       "      <td>2.137645e+07</td>\n",
       "      <td>916.690252</td>\n",
       "    </tr>\n",
       "    <tr>\n",
       "      <th>min</th>\n",
       "      <td>1997.000000</td>\n",
       "      <td>4.000000e-03</td>\n",
       "      <td>0.000000e+00</td>\n",
       "      <td>0.000000</td>\n",
       "    </tr>\n",
       "    <tr>\n",
       "      <th>25%</th>\n",
       "      <td>2003.000000</td>\n",
       "      <td>7.400000e+01</td>\n",
       "      <td>9.000000e+01</td>\n",
       "      <td>0.550000</td>\n",
       "    </tr>\n",
       "    <tr>\n",
       "      <th>50%</th>\n",
       "      <td>2009.000000</td>\n",
       "      <td>5.320000e+02</td>\n",
       "      <td>7.180000e+02</td>\n",
       "      <td>1.000000</td>\n",
       "    </tr>\n",
       "    <tr>\n",
       "      <th>75%</th>\n",
       "      <td>2015.000000</td>\n",
       "      <td>4.112000e+03</td>\n",
       "      <td>6.941000e+03</td>\n",
       "      <td>2.470000</td>\n",
       "    </tr>\n",
       "    <tr>\n",
       "      <th>max</th>\n",
       "      <td>2020.000000</td>\n",
       "      <td>8.580100e+06</td>\n",
       "      <td>1.597800e+09</td>\n",
       "      <td>43958.330000</td>\n",
       "    </tr>\n",
       "  </tbody>\n",
       "</table>\n",
       "</div>"
      ],
      "text/plain": [
       "           Crop_Year          Area    Production          Yield\n",
       "count  345327.000000  3.453270e+05  3.453270e+05  345327.000000\n",
       "mean     2008.887680  1.167177e+04  9.447745e+05      79.425204\n",
       "std         6.564326  4.584135e+04  2.137645e+07     916.690252\n",
       "min      1997.000000  4.000000e-03  0.000000e+00       0.000000\n",
       "25%      2003.000000  7.400000e+01  9.000000e+01       0.550000\n",
       "50%      2009.000000  5.320000e+02  7.180000e+02       1.000000\n",
       "75%      2015.000000  4.112000e+03  6.941000e+03       2.470000\n",
       "max      2020.000000  8.580100e+06  1.597800e+09   43958.330000"
      ]
     },
     "execution_count": 9,
     "metadata": {},
     "output_type": "execute_result"
    }
   ],
   "source": [
    "df.describe()"
   ]
  },
  {
   "cell_type": "code",
   "execution_count": 10,
   "id": "12c518f0",
   "metadata": {
    "execution": {
     "iopub.execute_input": "2024-10-07T15:19:00.586330Z",
     "iopub.status.busy": "2024-10-07T15:19:00.585626Z",
     "iopub.status.idle": "2024-10-07T15:19:00.710706Z",
     "shell.execute_reply": "2024-10-07T15:19:00.709843Z"
    },
    "papermill": {
     "duration": 0.139482,
     "end_time": "2024-10-07T15:19:00.713215",
     "exception": false,
     "start_time": "2024-10-07T15:19:00.573733",
     "status": "completed"
    },
    "tags": []
   },
   "outputs": [],
   "source": [
    "from sklearn.preprocessing import LabelEncoder\n",
    "encoder = LabelEncoder()"
   ]
  },
  {
   "cell_type": "code",
   "execution_count": 11,
   "id": "855ad743",
   "metadata": {
    "execution": {
     "iopub.execute_input": "2024-10-07T15:19:00.736857Z",
     "iopub.status.busy": "2024-10-07T15:19:00.736179Z",
     "iopub.status.idle": "2024-10-07T15:19:00.743270Z",
     "shell.execute_reply": "2024-10-07T15:19:00.742312Z"
    },
    "papermill": {
     "duration": 0.021401,
     "end_time": "2024-10-07T15:19:00.745601",
     "exception": false,
     "start_time": "2024-10-07T15:19:00.724200",
     "status": "completed"
    },
    "tags": []
   },
   "outputs": [
    {
     "data": {
      "text/plain": [
       "Index(['State', 'District', 'Crop', 'Crop_Year', 'Season', 'Area',\n",
       "       'Production', 'Yield'],\n",
       "      dtype='object')"
      ]
     },
     "execution_count": 11,
     "metadata": {},
     "output_type": "execute_result"
    }
   ],
   "source": [
    "df.columns"
   ]
  },
  {
   "cell_type": "code",
   "execution_count": 12,
   "id": "79e7449a",
   "metadata": {
    "execution": {
     "iopub.execute_input": "2024-10-07T15:19:00.768758Z",
     "iopub.status.busy": "2024-10-07T15:19:00.767970Z",
     "iopub.status.idle": "2024-10-07T15:19:01.136270Z",
     "shell.execute_reply": "2024-10-07T15:19:01.135296Z"
    },
    "papermill": {
     "duration": 0.382875,
     "end_time": "2024-10-07T15:19:01.138933",
     "exception": false,
     "start_time": "2024-10-07T15:19:00.756058",
     "status": "completed"
    },
    "tags": []
   },
   "outputs": [],
   "source": [
    "df['State'] = encoder.fit_transform(df['State'])\n",
    "df['District'] = encoder.fit_transform(df['District'])\n",
    "df['Crop'] = encoder.fit_transform(df['Crop'])\n",
    "df['Season'] = encoder.fit_transform(df['Season'])"
   ]
  },
  {
   "cell_type": "code",
   "execution_count": 13,
   "id": "c18f6ebc",
   "metadata": {
    "execution": {
     "iopub.execute_input": "2024-10-07T15:19:01.162520Z",
     "iopub.status.busy": "2024-10-07T15:19:01.162114Z",
     "iopub.status.idle": "2024-10-07T15:19:01.173777Z",
     "shell.execute_reply": "2024-10-07T15:19:01.172892Z"
    },
    "papermill": {
     "duration": 0.026255,
     "end_time": "2024-10-07T15:19:01.176172",
     "exception": false,
     "start_time": "2024-10-07T15:19:01.149917",
     "status": "completed"
    },
    "tags": []
   },
   "outputs": [],
   "source": [
    "df = df.drop(['Yield'], axis = 1)"
   ]
  },
  {
   "cell_type": "code",
   "execution_count": 14,
   "id": "077b8ccd",
   "metadata": {
    "execution": {
     "iopub.execute_input": "2024-10-07T15:19:01.199813Z",
     "iopub.status.busy": "2024-10-07T15:19:01.199401Z",
     "iopub.status.idle": "2024-10-07T15:19:01.212518Z",
     "shell.execute_reply": "2024-10-07T15:19:01.211575Z"
    },
    "papermill": {
     "duration": 0.027629,
     "end_time": "2024-10-07T15:19:01.215043",
     "exception": false,
     "start_time": "2024-10-07T15:19:01.187414",
     "status": "completed"
    },
    "tags": []
   },
   "outputs": [
    {
     "data": {
      "text/html": [
       "<div>\n",
       "<style scoped>\n",
       "    .dataframe tbody tr th:only-of-type {\n",
       "        vertical-align: middle;\n",
       "    }\n",
       "\n",
       "    .dataframe tbody tr th {\n",
       "        vertical-align: top;\n",
       "    }\n",
       "\n",
       "    .dataframe thead th {\n",
       "        text-align: right;\n",
       "    }\n",
       "</style>\n",
       "<table border=\"1\" class=\"dataframe\">\n",
       "  <thead>\n",
       "    <tr style=\"text-align: right;\">\n",
       "      <th></th>\n",
       "      <th>State</th>\n",
       "      <th>District</th>\n",
       "      <th>Crop</th>\n",
       "      <th>Crop_Year</th>\n",
       "      <th>Season</th>\n",
       "      <th>Area</th>\n",
       "      <th>Production</th>\n",
       "    </tr>\n",
       "  </thead>\n",
       "  <tbody>\n",
       "    <tr>\n",
       "      <th>0</th>\n",
       "      <td>0</td>\n",
       "      <td>464</td>\n",
       "      <td>0</td>\n",
       "      <td>2007</td>\n",
       "      <td>1</td>\n",
       "      <td>2439.6</td>\n",
       "      <td>3415.0</td>\n",
       "    </tr>\n",
       "    <tr>\n",
       "      <th>1</th>\n",
       "      <td>0</td>\n",
       "      <td>464</td>\n",
       "      <td>0</td>\n",
       "      <td>2007</td>\n",
       "      <td>2</td>\n",
       "      <td>1626.4</td>\n",
       "      <td>2277.0</td>\n",
       "    </tr>\n",
       "    <tr>\n",
       "      <th>2</th>\n",
       "      <td>0</td>\n",
       "      <td>464</td>\n",
       "      <td>0</td>\n",
       "      <td>2008</td>\n",
       "      <td>0</td>\n",
       "      <td>4147.0</td>\n",
       "      <td>3060.0</td>\n",
       "    </tr>\n",
       "    <tr>\n",
       "      <th>3</th>\n",
       "      <td>0</td>\n",
       "      <td>464</td>\n",
       "      <td>0</td>\n",
       "      <td>2008</td>\n",
       "      <td>3</td>\n",
       "      <td>4147.0</td>\n",
       "      <td>2660.0</td>\n",
       "    </tr>\n",
       "    <tr>\n",
       "      <th>4</th>\n",
       "      <td>0</td>\n",
       "      <td>464</td>\n",
       "      <td>0</td>\n",
       "      <td>2009</td>\n",
       "      <td>0</td>\n",
       "      <td>4153.0</td>\n",
       "      <td>3120.0</td>\n",
       "    </tr>\n",
       "  </tbody>\n",
       "</table>\n",
       "</div>"
      ],
      "text/plain": [
       "   State  District  Crop  Crop_Year  Season    Area  Production\n",
       "0      0       464     0       2007       1  2439.6      3415.0\n",
       "1      0       464     0       2007       2  1626.4      2277.0\n",
       "2      0       464     0       2008       0  4147.0      3060.0\n",
       "3      0       464     0       2008       3  4147.0      2660.0\n",
       "4      0       464     0       2009       0  4153.0      3120.0"
      ]
     },
     "execution_count": 14,
     "metadata": {},
     "output_type": "execute_result"
    }
   ],
   "source": [
    "df.head()"
   ]
  },
  {
   "cell_type": "code",
   "execution_count": 15,
   "id": "3011e617",
   "metadata": {
    "execution": {
     "iopub.execute_input": "2024-10-07T15:19:01.238949Z",
     "iopub.status.busy": "2024-10-07T15:19:01.238519Z",
     "iopub.status.idle": "2024-10-07T15:19:01.305280Z",
     "shell.execute_reply": "2024-10-07T15:19:01.304338Z"
    },
    "papermill": {
     "duration": 0.081619,
     "end_time": "2024-10-07T15:19:01.307685",
     "exception": false,
     "start_time": "2024-10-07T15:19:01.226066",
     "status": "completed"
    },
    "tags": []
   },
   "outputs": [],
   "source": [
    "corr_matrix = df.corr()"
   ]
  },
  {
   "cell_type": "code",
   "execution_count": 16,
   "id": "dcb87310",
   "metadata": {
    "execution": {
     "iopub.execute_input": "2024-10-07T15:19:01.332213Z",
     "iopub.status.busy": "2024-10-07T15:19:01.331361Z",
     "iopub.status.idle": "2024-10-07T15:19:01.828516Z",
     "shell.execute_reply": "2024-10-07T15:19:01.827344Z"
    },
    "papermill": {
     "duration": 0.512259,
     "end_time": "2024-10-07T15:19:01.831381",
     "exception": false,
     "start_time": "2024-10-07T15:19:01.319122",
     "status": "completed"
    },
    "tags": []
   },
   "outputs": [
    {
     "data": {
      "image/png": "[encoded data removed]",
      "text/plain": [
       "<Figure size 1000x800 with 2 Axes>"
      ]
     },
     "metadata": {},
     "output_type": "display_data"
    }
   ],
   "source": [
    "plt.figure(figsize=(10, 8))\n",
    "\n",
    "sns.heatmap(corr_matrix, annot=True, cmap='coolwarm', fmt='.2f', linewidths=0.5)\n",
    "\n",
    "plt.title('Correlation Matrix Heatmap', fontsize=16)\n",
    "plt.show()\n"
   ]
  },
  {
   "cell_type": "code",
   "execution_count": 17,
   "id": "9fe441f0",
   "metadata": {
    "execution": {
     "iopub.execute_input": "2024-10-07T15:19:01.857739Z",
     "iopub.status.busy": "2024-10-07T15:19:01.857315Z",
     "iopub.status.idle": "2024-10-07T15:19:01.877434Z",
     "shell.execute_reply": "2024-10-07T15:19:01.876087Z"
    },
    "papermill": {
     "duration": 0.036413,
     "end_time": "2024-10-07T15:19:01.880252",
     "exception": false,
     "start_time": "2024-10-07T15:19:01.843839",
     "status": "completed"
    },
    "tags": []
   },
   "outputs": [],
   "source": [
    "X = df.iloc[:, :-1]\n",
    "y = df.iloc[:, -1]"
   ]
  },
  {
   "cell_type": "code",
   "execution_count": 18,
   "id": "c29eab64",
   "metadata": {
    "execution": {
     "iopub.execute_input": "2024-10-07T15:19:01.913868Z",
     "iopub.status.busy": "2024-10-07T15:19:01.912966Z",
     "iopub.status.idle": "2024-10-07T15:19:02.103649Z",
     "shell.execute_reply": "2024-10-07T15:19:02.102236Z"
    },
    "papermill": {
     "duration": 0.210809,
     "end_time": "2024-10-07T15:19:02.106964",
     "exception": false,
     "start_time": "2024-10-07T15:19:01.896155",
     "status": "completed"
    },
    "tags": []
   },
   "outputs": [],
   "source": [
    "from sklearn.model_selection import train_test_split\n",
    "X_train, X_test, y_train, y_test = train_test_split(X, y , test_size=0.25, random_state=42)"
   ]
  },
  {
   "cell_type": "code",
   "execution_count": 19,
   "id": "2c5e7924",
   "metadata": {
    "execution": {
     "iopub.execute_input": "2024-10-07T15:19:02.138964Z",
     "iopub.status.busy": "2024-10-07T15:19:02.138492Z",
     "iopub.status.idle": "2024-10-07T15:19:02.143568Z",
     "shell.execute_reply": "2024-10-07T15:19:02.142573Z"
    },
    "papermill": {
     "duration": 0.022429,
     "end_time": "2024-10-07T15:19:02.145840",
     "exception": false,
     "start_time": "2024-10-07T15:19:02.123411",
     "status": "completed"
    },
    "tags": []
   },
   "outputs": [],
   "source": [
    "from sklearn.preprocessing import StandardScaler\n",
    "scaler = StandardScaler()"
   ]
  },
  {
   "cell_type": "code",
   "execution_count": 20,
   "id": "461ccc5f",
   "metadata": {
    "execution": {
     "iopub.execute_input": "2024-10-07T15:19:02.174520Z",
     "iopub.status.busy": "2024-10-07T15:19:02.173722Z",
     "iopub.status.idle": "2024-10-07T15:19:02.205410Z",
     "shell.execute_reply": "2024-10-07T15:19:02.204279Z"
    },
    "papermill": {
     "duration": 0.049281,
     "end_time": "2024-10-07T15:19:02.208227",
     "exception": false,
     "start_time": "2024-10-07T15:19:02.158946",
     "status": "completed"
    },
    "tags": []
   },
   "outputs": [],
   "source": [
    "X_train[['Crop_Year', 'Area']] = scaler.fit_transform(X_train[['Crop_Year', 'Area']])\n",
    "X_test[['Crop_Year', 'Area']] = scaler.transform(X_test[['Crop_Year', 'Area']])"
   ]
  },
  {
   "cell_type": "code",
   "execution_count": 21,
   "id": "8e51f182",
   "metadata": {
    "execution": {
     "iopub.execute_input": "2024-10-07T15:19:02.234582Z",
     "iopub.status.busy": "2024-10-07T15:19:02.234159Z",
     "iopub.status.idle": "2024-10-07T15:19:02.244758Z",
     "shell.execute_reply": "2024-10-07T15:19:02.243940Z"
    },
    "papermill": {
     "duration": 0.026219,
     "end_time": "2024-10-07T15:19:02.246957",
     "exception": false,
     "start_time": "2024-10-07T15:19:02.220738",
     "status": "completed"
    },
    "tags": []
   },
   "outputs": [],
   "source": [
    "y_train_scaled = scaler.fit_transform(y_train.values.reshape(-1, 1))  \n",
    "y_test_scaled = scaler.transform(y_test.values.reshape(-1, 1))"
   ]
  },
  {
   "cell_type": "code",
   "execution_count": 22,
   "id": "008e1633",
   "metadata": {
    "execution": {
     "iopub.execute_input": "2024-10-07T15:19:02.273088Z",
     "iopub.status.busy": "2024-10-07T15:19:02.272393Z",
     "iopub.status.idle": "2024-10-07T15:19:02.482715Z",
     "shell.execute_reply": "2024-10-07T15:19:02.481193Z"
    },
    "papermill": {
     "duration": 0.226157,
     "end_time": "2024-10-07T15:19:02.485275",
     "exception": false,
     "start_time": "2024-10-07T15:19:02.259118",
     "status": "completed"
    },
    "tags": []
   },
   "outputs": [],
   "source": [
    "from sklearn.ensemble import RandomForestRegressor\n",
    "rf = RandomForestRegressor(n_jobs=-1)"
   ]
  },
  {
   "cell_type": "code",
   "execution_count": 23,
   "id": "f99a462f",
   "metadata": {
    "execution": {
     "iopub.execute_input": "2024-10-07T15:19:02.511611Z",
     "iopub.status.busy": "2024-10-07T15:19:02.510790Z",
     "iopub.status.idle": "2024-10-07T15:19:44.950087Z",
     "shell.execute_reply": "2024-10-07T15:19:44.948968Z"
    },
    "papermill": {
     "duration": 42.467045,
     "end_time": "2024-10-07T15:19:44.964898",
     "exception": false,
     "start_time": "2024-10-07T15:19:02.497853",
     "status": "completed"
    },
    "tags": []
   },
   "outputs": [
    {
     "name": "stderr",
     "output_type": "stream",
     "text": [
      "/tmp/ipykernel_17/1925426633.py:1: DataConversionWarning: A column-vector y was passed when a 1d array was expected. Please change the shape of y to (n_samples,), for example using ravel().\n",
      "  rf.fit(X_train, y_train_scaled)\n"
     ]
    },
    {
     "data": {
      "text/html": [
       "<style>#sk-container-id-1 {color: black;background-color: white;}#sk-container-id-1 pre{padding: 0;}#sk-container-id-1 div.sk-toggleable {background-color: white;}#sk-container-id-1 label.sk-toggleable__label {cursor: pointer;display: block;width: 100%;margin-bottom: 0;padding: 0.3em;box-sizing: border-box;text-align: center;}#sk-container-id-1 label.sk-toggleable__label-arrow:before {content: \"▸\";float: left;margin-right: 0.25em;color: #696969;}#sk-container-id-1 label.sk-toggleable__label-arrow:hover:before {color: black;}#sk-container-id-1 div.sk-estimator:hover label.sk-toggleable__label-arrow:before {color: black;}#sk-container-id-1 div.sk-toggleable__content {max-height: 0;max-width: 0;overflow: hidden;text-align: left;background-color: #f0f8ff;}#sk-container-id-1 div.sk-toggleable__content pre {margin: 0.2em;color: black;border-radius: 0.25em;background-color: #f0f8ff;}#sk-container-id-1 input.sk-toggleable__control:checked~div.sk-toggleable__content {max-height: 200px;max-width: 100%;overflow: auto;}#sk-container-id-1 input.sk-toggleable__control:checked~label.sk-toggleable__label-arrow:before {content: \"▾\";}#sk-container-id-1 div.sk-estimator input.sk-toggleable__control:checked~label.sk-toggleable__label {background-color: #d4ebff;}#sk-container-id-1 div.sk-label input.sk-toggleable__control:checked~label.sk-toggleable__label {background-color: #d4ebff;}#sk-container-id-1 input.sk-hidden--visually {border: 0;clip: rect(1px 1px 1px 1px);clip: rect(1px, 1px, 1px, 1px);height: 1px;margin: -1px;overflow: hidden;padding: 0;position: absolute;width: 1px;}#sk-container-id-1 div.sk-estimator {font-family: monospace;background-color: #f0f8ff;border: 1px dotted black;border-radius: 0.25em;box-sizing: border-box;margin-bottom: 0.5em;}#sk-container-id-1 div.sk-estimator:hover {background-color: #d4ebff;}#sk-container-id-1 div.sk-parallel-item::after {content: \"\";width: 100%;border-bottom: 1px solid gray;flex-grow: 1;}#sk-container-id-1 div.sk-label:hover label.sk-toggleable__label {background-color: #d4ebff;}#sk-container-id-1 div.sk-serial::before {content: \"\";position: absolute;border-left: 1px solid gray;box-sizing: border-box;top: 0;bottom: 0;left: 50%;z-index: 0;}#sk-container-id-1 div.sk-serial {display: flex;flex-direction: column;align-items: center;background-color: white;padding-right: 0.2em;padding-left: 0.2em;position: relative;}#sk-container-id-1 div.sk-item {position: relative;z-index: 1;}#sk-container-id-1 div.sk-parallel {display: flex;align-items: stretch;justify-content: center;background-color: white;position: relative;}#sk-container-id-1 div.sk-item::before, #sk-container-id-1 div.sk-parallel-item::before {content: \"\";position: absolute;border-left: 1px solid gray;box-sizing: border-box;top: 0;bottom: 0;left: 50%;z-index: -1;}#sk-container-id-1 div.sk-parallel-item {display: flex;flex-direction: column;z-index: 1;position: relative;background-color: white;}#sk-container-id-1 div.sk-parallel-item:first-child::after {align-self: flex-end;width: 50%;}#sk-container-id-1 div.sk-parallel-item:last-child::after {align-self: flex-start;width: 50%;}#sk-container-id-1 div.sk-parallel-item:only-child::after {width: 0;}#sk-container-id-1 div.sk-dashed-wrapped {border: 1px dashed gray;margin: 0 0.4em 0.5em 0.4em;box-sizing: border-box;padding-bottom: 0.4em;background-color: white;}#sk-container-id-1 div.sk-label label {font-family: monospace;font-weight: bold;display: inline-block;line-height: 1.2em;}#sk-container-id-1 div.sk-label-container {text-align: center;}#sk-container-id-1 div.sk-container {/* jupyter's `normalize.less` sets `[hidden] { display: none; }` but bootstrap.min.css set `[hidden] { display: none !important; }` so we also need the `!important` here to be able to override the default hidden behavior on the sphinx rendered scikit-learn.org. See: https://github.com/scikit-learn/scikit-learn/issues/21755 */display: inline-block !important;position: relative;}#sk-container-id-1 div.sk-text-repr-fallback {display: none;}</style><div id=\"sk-container-id-1\" class=\"sk-top-container\"><div class=\"sk-text-repr-fallback\"><pre>RandomForestRegressor(n_jobs=-1)</pre><b>In a Jupyter environment, please rerun this cell to show the HTML representation or trust the notebook. <br />On GitHub, the HTML representation is unable to render, please try loading this page with nbviewer.org.</b></div><div class=\"sk-container\" hidden><div class=\"sk-item\"><div class=\"sk-estimator sk-toggleable\"><input class=\"sk-toggleable__control sk-hidden--visually\" id=\"sk-estimator-id-1\" type=\"checkbox\" checked><label for=\"sk-estimator-id-1\" class=\"sk-toggleable__label sk-toggleable__label-arrow\">RandomForestRegressor</label><div class=\"sk-toggleable__content\"><pre>RandomForestRegressor(n_jobs=-1)</pre></div></div></div></div></div>"
      ],
      "text/plain": [
       "RandomForestRegressor(n_jobs=-1)"
      ]
     },
     "execution_count": 23,
     "metadata": {},
     "output_type": "execute_result"
    }
   ],
   "source": [
    "rf.fit(X_train, y_train_scaled)"
   ]
  },
  {
   "cell_type": "code",
   "execution_count": 24,
   "id": "c9af9001",
   "metadata": {
    "execution": {
     "iopub.execute_input": "2024-10-07T15:19:44.991109Z",
     "iopub.status.busy": "2024-10-07T15:19:44.990703Z",
     "iopub.status.idle": "2024-10-07T15:19:46.348299Z",
     "shell.execute_reply": "2024-10-07T15:19:46.347331Z"
    },
    "papermill": {
     "duration": 1.373641,
     "end_time": "2024-10-07T15:19:46.350869",
     "exception": false,
     "start_time": "2024-10-07T15:19:44.977228",
     "status": "completed"
    },
    "tags": []
   },
   "outputs": [],
   "source": [
    "y_pred_scaled = rf.predict(X_test)"
   ]
  },
  {
   "cell_type": "code",
   "execution_count": 25,
   "id": "71fb3b62",
   "metadata": {
    "execution": {
     "iopub.execute_input": "2024-10-07T15:19:46.377518Z",
     "iopub.status.busy": "2024-10-07T15:19:46.377126Z",
     "iopub.status.idle": "2024-10-07T15:19:46.387068Z",
     "shell.execute_reply": "2024-10-07T15:19:46.385949Z"
    },
    "papermill": {
     "duration": 0.025863,
     "end_time": "2024-10-07T15:19:46.389336",
     "exception": false,
     "start_time": "2024-10-07T15:19:46.363473",
     "status": "completed"
    },
    "tags": []
   },
   "outputs": [
    {
     "name": "stdout",
     "output_type": "stream",
     "text": [
      "Random Forest MSE: 0.031023310072787625\n",
      "Random Forest MAE: 0.006521207291920467\n",
      "Random Forest R-squared: 0.9655846605787191\n"
     ]
    }
   ],
   "source": [
    "from sklearn.metrics import mean_squared_error, mean_absolute_error, r2_score\n",
    "\n",
    "mse_rf = mean_squared_error(y_test_scaled, y_pred_scaled)\n",
    "print(f\"Random Forest MSE: {mse_rf}\")\n",
    "\n",
    "mae_rf = mean_absolute_error(y_test_scaled, y_pred_scaled)\n",
    "print(f\"Random Forest MAE: {mae_rf}\")\n",
    "\n",
    "r2_rf = r2_score(y_test_scaled, y_pred_scaled)\n",
    "print(f\"Random Forest R-squared: {r2_rf}\")\n"
   ]
  },
  {
   "cell_type": "code",
   "execution_count": 26,
   "id": "e736d5b9",
   "metadata": {
    "execution": {
     "iopub.execute_input": "2024-10-07T15:19:46.414962Z",
     "iopub.status.busy": "2024-10-07T15:19:46.414576Z",
     "iopub.status.idle": "2024-10-07T15:19:46.420537Z",
     "shell.execute_reply": "2024-10-07T15:19:46.419744Z"
    },
    "papermill": {
     "duration": 0.0213,
     "end_time": "2024-10-07T15:19:46.422607",
     "exception": false,
     "start_time": "2024-10-07T15:19:46.401307",
     "status": "completed"
    },
    "tags": []
   },
   "outputs": [],
   "source": [
    "y_pred_real = scaler.inverse_transform(y_pred_scaled.reshape(-1, 1))\n",
    "\n",
    "y_test_real = scaler.inverse_transform(y_test_scaled.reshape(-1, 1))"
   ]
  },
  {
   "cell_type": "code",
   "execution_count": 27,
   "id": "8f9cd48f",
   "metadata": {
    "execution": {
     "iopub.execute_input": "2024-10-07T15:19:46.448465Z",
     "iopub.status.busy": "2024-10-07T15:19:46.448121Z",
     "iopub.status.idle": "2024-10-07T15:19:46.457190Z",
     "shell.execute_reply": "2024-10-07T15:19:46.456153Z"
    },
    "papermill": {
     "duration": 0.023933,
     "end_time": "2024-10-07T15:19:46.459135",
     "exception": false,
     "start_time": "2024-10-07T15:19:46.435202",
     "status": "completed"
    },
    "tags": []
   },
   "outputs": [
    {
     "name": "stdout",
     "output_type": "stream",
     "text": [
      "Random Forest MSE: 14534268384281.896\n",
      "Random Forest MAE: 141149.8842820532\n",
      "Random Forest R-squared: 0.9655846605787191\n"
     ]
    }
   ],
   "source": [
    "from sklearn.metrics import mean_squared_error, mean_absolute_error, r2_score\n",
    "\n",
    "mse_rf = mean_squared_error(y_test_real, y_pred_real)\n",
    "print(f\"Random Forest MSE: {mse_rf}\")\n",
    "\n",
    "mae_rf = mean_absolute_error(y_test_real, y_pred_real)\n",
    "print(f\"Random Forest MAE: {mae_rf}\")\n",
    "\n",
    "r2_rf = r2_score(y_test_real, y_pred_real)\n",
    "print(f\"Random Forest R-squared: {r2_rf}\")\n"
   ]
  },
  {
   "cell_type": "code",
   "execution_count": 28,
   "id": "2edde30f",
   "metadata": {
    "execution": {
     "iopub.execute_input": "2024-10-07T15:19:46.484807Z",
     "iopub.status.busy": "2024-10-07T15:19:46.484438Z",
     "iopub.status.idle": "2024-10-07T15:19:46.496774Z",
     "shell.execute_reply": "2024-10-07T15:19:46.495732Z"
    },
    "papermill": {
     "duration": 0.028034,
     "end_time": "2024-10-07T15:19:46.499214",
     "exception": false,
     "start_time": "2024-10-07T15:19:46.471180",
     "status": "completed"
    },
    "tags": []
   },
   "outputs": [
    {
     "data": {
      "text/html": [
       "<div>\n",
       "<style scoped>\n",
       "    .dataframe tbody tr th:only-of-type {\n",
       "        vertical-align: middle;\n",
       "    }\n",
       "\n",
       "    .dataframe tbody tr th {\n",
       "        vertical-align: top;\n",
       "    }\n",
       "\n",
       "    .dataframe thead th {\n",
       "        text-align: right;\n",
       "    }\n",
       "</style>\n",
       "<table border=\"1\" class=\"dataframe\">\n",
       "  <thead>\n",
       "    <tr style=\"text-align: right;\">\n",
       "      <th></th>\n",
       "      <th>State</th>\n",
       "      <th>District</th>\n",
       "      <th>Crop</th>\n",
       "      <th>Crop_Year</th>\n",
       "      <th>Season</th>\n",
       "      <th>Area</th>\n",
       "    </tr>\n",
       "  </thead>\n",
       "  <tbody>\n",
       "    <tr>\n",
       "      <th>161022</th>\n",
       "      <td>18</td>\n",
       "      <td>333</td>\n",
       "      <td>23</td>\n",
       "      <td>-1.356414</td>\n",
       "      <td>2</td>\n",
       "      <td>-0.244633</td>\n",
       "    </tr>\n",
       "    <tr>\n",
       "      <th>18177</th>\n",
       "      <td>2</td>\n",
       "      <td>486</td>\n",
       "      <td>24</td>\n",
       "      <td>1.540844</td>\n",
       "      <td>1</td>\n",
       "      <td>-0.191605</td>\n",
       "    </tr>\n",
       "    <tr>\n",
       "      <th>42672</th>\n",
       "      <td>4</td>\n",
       "      <td>85</td>\n",
       "      <td>14</td>\n",
       "      <td>-0.136516</td>\n",
       "      <td>4</td>\n",
       "      <td>-0.245116</td>\n",
       "    </tr>\n",
       "    <tr>\n",
       "      <th>162519</th>\n",
       "      <td>18</td>\n",
       "      <td>575</td>\n",
       "      <td>24</td>\n",
       "      <td>0.625921</td>\n",
       "      <td>1</td>\n",
       "      <td>-0.016906</td>\n",
       "    </tr>\n",
       "    <tr>\n",
       "      <th>33546</th>\n",
       "      <td>3</td>\n",
       "      <td>219</td>\n",
       "      <td>40</td>\n",
       "      <td>-0.136516</td>\n",
       "      <td>5</td>\n",
       "      <td>0.762240</td>\n",
       "    </tr>\n",
       "  </tbody>\n",
       "</table>\n",
       "</div>"
      ],
      "text/plain": [
       "        State  District  Crop  Crop_Year  Season      Area\n",
       "161022     18       333    23  -1.356414       2 -0.244633\n",
       "18177       2       486    24   1.540844       1 -0.191605\n",
       "42672       4        85    14  -0.136516       4 -0.245116\n",
       "162519     18       575    24   0.625921       1 -0.016906\n",
       "33546       3       219    40  -0.136516       5  0.762240"
      ]
     },
     "execution_count": 28,
     "metadata": {},
     "output_type": "execute_result"
    }
   ],
   "source": [
    "X_test.head()"
   ]
  },
  {
   "cell_type": "code",
   "execution_count": 29,
   "id": "f7c12f06",
   "metadata": {
    "execution": {
     "iopub.execute_input": "2024-10-07T15:19:46.526836Z",
     "iopub.status.busy": "2024-10-07T15:19:46.525908Z",
     "iopub.status.idle": "2024-10-07T15:19:46.534025Z",
     "shell.execute_reply": "2024-10-07T15:19:46.533028Z"
    },
    "papermill": {
     "duration": 0.023785,
     "end_time": "2024-10-07T15:19:46.536013",
     "exception": false,
     "start_time": "2024-10-07T15:19:46.512228",
     "status": "completed"
    },
    "tags": []
   },
   "outputs": [
    {
     "data": {
      "text/plain": [
       "161022        5.0\n",
       "18177      4528.0\n",
       "42672         9.0\n",
       "162519    16622.0\n",
       "33546     75333.0\n",
       "Name: Production, dtype: float64"
      ]
     },
     "execution_count": 29,
     "metadata": {},
     "output_type": "execute_result"
    }
   ],
   "source": [
    "y_test.head()"
   ]
  },
  {
   "cell_type": "code",
   "execution_count": 30,
   "id": "c317f5a2",
   "metadata": {
    "execution": {
     "iopub.execute_input": "2024-10-07T15:19:46.562979Z",
     "iopub.status.busy": "2024-10-07T15:19:46.562539Z",
     "iopub.status.idle": "2024-10-07T15:19:46.568461Z",
     "shell.execute_reply": "2024-10-07T15:19:46.567633Z"
    },
    "papermill": {
     "duration": 0.022305,
     "end_time": "2024-10-07T15:19:46.570665",
     "exception": false,
     "start_time": "2024-10-07T15:19:46.548360",
     "status": "completed"
    },
    "tags": []
   },
   "outputs": [],
   "source": [
    "results_df = pd.DataFrame({\n",
    "    'Actual': y_test_real.flatten(),\n",
    "    'Predicted': y_pred_real.flatten()\n",
    "})"
   ]
  },
  {
   "cell_type": "code",
   "execution_count": 31,
   "id": "e56327e6",
   "metadata": {
    "execution": {
     "iopub.execute_input": "2024-10-07T15:19:46.597897Z",
     "iopub.status.busy": "2024-10-07T15:19:46.597256Z",
     "iopub.status.idle": "2024-10-07T15:19:46.604468Z",
     "shell.execute_reply": "2024-10-07T15:19:46.603421Z"
    },
    "papermill": {
     "duration": 0.02365,
     "end_time": "2024-10-07T15:19:46.607068",
     "exception": false,
     "start_time": "2024-10-07T15:19:46.583418",
     "status": "completed"
    },
    "tags": []
   },
   "outputs": [
    {
     "name": "stdout",
     "output_type": "stream",
     "text": [
      "    Actual     Predicted\n",
      "0      5.0     19.440000\n",
      "1   4528.0   4458.720000\n",
      "2      9.0     10.613127\n",
      "3  16622.0  18435.580000\n",
      "4  75333.0  86661.840000\n"
     ]
    }
   ],
   "source": [
    "print(results_df.head())"
   ]
  },
  {
   "cell_type": "code",
   "execution_count": null,
   "id": "a4463cbe",
   "metadata": {
    "papermill": {
     "duration": 0.012857,
     "end_time": "2024-10-07T15:19:46.633358",
     "exception": false,
     "start_time": "2024-10-07T15:19:46.620501",
     "status": "completed"
    },
    "tags": []
   },
   "outputs": [],
   "source": []
  }
 ],
 "metadata": {
  "kaggle": {
   "accelerator": "none",
   "dataSources": [
    {
     "datasetId": 2949098,
     "sourceId": 5083216,
     "sourceType": "datasetVersion"
    }
   ],
   "dockerImageVersionId": 30786,
   "isGpuEnabled": false,
   "isInternetEnabled": true,
   "language": "python",
   "sourceType": "notebook"
  },
  "kernelspec": {
   "display_name": "Python 3",
   "language": "python",
   "name": "python3"
  },
  "language_info": {
   "codemirror_mode": {
    "name": "ipython",
    "version": 3
   },
   "file_extension": ".py",
   "mimetype": "text/x-python",
   "name": "python",
   "nbconvert_exporter": "python",
   "pygments_lexer": "ipython3",
   "version": "3.10.14"
  },
  "papermill": {
   "default_parameters": {},
   "duration": 53.781632,
   "end_time": "2024-10-07T15:19:47.367459",
   "environment_variables": {},
   "exception": null,
   "input_path": "__notebook__.ipynb",
   "output_path": "__notebook__.ipynb",
   "parameters": {},
   "start_time": "2024-10-07T15:18:53.585827",
   "version": "2.6.0"
  }
 },
 "nbformat": 4,
 "nbformat_minor": 5
}
